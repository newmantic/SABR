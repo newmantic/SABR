{
  "nbformat": 4,
  "nbformat_minor": 0,
  "metadata": {
    "colab": {
      "provenance": [],
      "authorship_tag": "ABX9TyMJOqiwqDD2QpMORXyYrBfR",
      "include_colab_link": true
    },
    "kernelspec": {
      "name": "python3",
      "display_name": "Python 3"
    },
    "language_info": {
      "name": "python"
    }
  },
  "cells": [
    {
      "cell_type": "markdown",
      "metadata": {
        "id": "view-in-github",
        "colab_type": "text"
      },
      "source": [
        "<a href=\"https://colab.research.google.com/github/newmantic/SABR/blob/main/SABR.ipynb\" target=\"_parent\"><img src=\"https://colab.research.google.com/assets/colab-badge.svg\" alt=\"Open In Colab\"/></a>"
      ]
    },
    {
      "cell_type": "code",
      "execution_count": 1,
      "metadata": {
        "id": "VYsPbg2K8YlE"
      },
      "outputs": [],
      "source": [
        "import numpy as np\n",
        "\n",
        "def sabr_implied_volatility(F, K, T, alpha, beta, rho, nu):\n",
        "    \"\"\"\n",
        "    Calculate the implied volatility using the SABR model.\n",
        "\n",
        "    Parameters:\n",
        "    - F: Forward rate\n",
        "    - K: Strike rate\n",
        "    - T: Time to maturity\n",
        "    - alpha: SABR alpha parameter (initial volatility)\n",
        "    - beta: SABR beta parameter (elasticity)\n",
        "    - rho: SABR rho parameter (correlation)\n",
        "    - nu: SABR nu parameter (volatility of volatility)\n",
        "\n",
        "    Returns:\n",
        "    - sigma_impl: Implied volatility\n",
        "    \"\"\"\n",
        "    if F == K:\n",
        "        # At-the-money case\n",
        "        FK = F * K\n",
        "        logFK = 0\n",
        "    else:\n",
        "        FK = F * K\n",
        "        logFK = np.log(F / K)\n",
        "\n",
        "    z = nu / alpha * (FK ** ((1 - beta) / 2)) * logFK\n",
        "    x_z = np.log((np.sqrt(1 - 2 * rho * z + z ** 2) + z - rho) / (1 - rho))\n",
        "\n",
        "    A = alpha / ((FK) ** ((1 - beta) / 2))\n",
        "    B = 1 + (((1 - beta) ** 2 / 24) * (logFK ** 2) + (rho * beta * nu / 4) * logFK + ((2 - 3 * rho ** 2) / 24) * (nu ** 2)) * T\n",
        "\n",
        "    sigma_impl = A * z / x_z * B\n",
        "\n",
        "    return sigma_impl\n",
        "\n",
        "def sabr_swaption_price(F, K, T, alpha, beta, rho, nu, notional, option_type='payer'):\n",
        "    \"\"\"\n",
        "    Calculate the swaption price using the SABR model.\n",
        "\n",
        "    Parameters:\n",
        "    - F: Forward rate\n",
        "    - K: Strike rate\n",
        "    - T: Time to maturity\n",
        "    - alpha: SABR alpha parameter (initial volatility)\n",
        "    - beta: SABR beta parameter (elasticity)\n",
        "    - rho: SABR rho parameter (correlation)\n",
        "    - nu: SABR nu parameter (volatility of volatility)\n",
        "    - notional: Notional amount of the swaption\n",
        "    - option_type: 'payer' for payer swaption, 'receiver' for receiver swaption\n",
        "\n",
        "    Returns:\n",
        "    - swaption_price: Price of the swaption\n",
        "    \"\"\"\n",
        "    sigma_impl = sabr_implied_volatility(F, K, T, alpha, beta, rho, nu)\n",
        "    d1 = (np.log(F / K) + 0.5 * sigma_impl ** 2 * T) / (sigma_impl * np.sqrt(T))\n",
        "    d2 = d1 - sigma_impl * np.sqrt(T)\n",
        "\n",
        "    if option_type == 'payer':\n",
        "        swaption_price = notional * (F * norm.cdf(d1) - K * norm.cdf(d2))\n",
        "    elif option_type == 'receiver':\n",
        "        swaption_price = notional * (K * norm.cdf(-d2) - F * norm.cdf(-d1))\n",
        "    else:\n",
        "        raise ValueError(\"Invalid option type. Choose 'payer' or 'receiver'.\")\n",
        "\n",
        "    return swaption_price"
      ]
    },
    {
      "cell_type": "code",
      "source": [
        "from scipy.stats import norm\n",
        "\n",
        "# Parameters\n",
        "F = 0.02           # Forward rate (2%)\n",
        "K = 0.025          # Strike rate (2.5%)\n",
        "T = 1.0            # Time to maturity (1 year)\n",
        "alpha = 0.02       # Initial volatility (2%)\n",
        "beta = 0.5         # Elasticity parameter\n",
        "rho = -0.3         # Correlation\n",
        "nu = 0.4           # Volatility of volatility (40%)\n",
        "notional = 1000000 # Notional amount\n",
        "\n",
        "# Calculate implied volatility\n",
        "implied_vol = sabr_implied_volatility(F, K, T, alpha, beta, rho, nu)\n",
        "print(f\"SABR Implied Volatility: {implied_vol:.4f}\")\n",
        "\n",
        "# Calculate payer swaption price\n",
        "payer_swaption_price = sabr_swaption_price(F, K, T, alpha, beta, rho, nu, notional, option_type='payer')\n",
        "print(f\"Payer Swaption Price: {payer_swaption_price:.2f}\")"
      ],
      "metadata": {
        "colab": {
          "base_uri": "https://localhost:8080/"
        },
        "id": "H3nw3z4C82tt",
        "outputId": "fc72be56-f9d9-4f8c-aef5-826b9337a9e1"
      },
      "execution_count": 2,
      "outputs": [
        {
          "output_type": "stream",
          "name": "stdout",
          "text": [
            "SABR Implied Volatility: 0.1322\n",
            "Payer Swaption Price: 55.53\n"
          ]
        }
      ]
    }
  ]
}